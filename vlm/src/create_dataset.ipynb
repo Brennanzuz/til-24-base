{
 "cells": [
  {
   "cell_type": "code",
   "execution_count": 6,
   "id": "8c9c1871",
   "metadata": {},
   "outputs": [],
   "source": [
    "import pandas as pd\n",
    "import numpy as np\n",
    "from typing import Dict\n",
    "\n",
    "from datasets import load_dataset, Dataset, Features, Value\n",
    "\n",
    "from sklearn.model_selection import train_test_split"
   ]
  },
  {
   "cell_type": "markdown",
   "id": "71eb3176-f38d-4fdf-bee7-43bf6d1e6997",
   "metadata": {},
   "source": [
    "# Data"
   ]
  },
  {
   "cell_type": "code",
   "execution_count": 7,
   "id": "71a8673a",
   "metadata": {},
   "outputs": [
    {
     "data": {
      "text/html": [
       "<div>\n",
       "<style scoped>\n",
       "    .dataframe tbody tr th:only-of-type {\n",
       "        vertical-align: middle;\n",
       "    }\n",
       "\n",
       "    .dataframe tbody tr th {\n",
       "        vertical-align: top;\n",
       "    }\n",
       "\n",
       "    .dataframe thead th {\n",
       "        text-align: right;\n",
       "    }\n",
       "</style>\n",
       "<table border=\"1\" class=\"dataframe\">\n",
       "  <thead>\n",
       "    <tr style=\"text-align: right;\">\n",
       "      <th></th>\n",
       "      <th>file_name</th>\n",
       "      <th>image_id</th>\n",
       "      <th>image</th>\n",
       "      <th>width</th>\n",
       "      <th>height</th>\n",
       "      <th>objects</th>\n",
       "    </tr>\n",
       "  </thead>\n",
       "  <tbody>\n",
       "    <tr>\n",
       "      <th>0</th>\n",
       "      <td>image_0.jpg</td>\n",
       "      <td>0</td>\n",
       "      <td>&lt;PIL.JpegImagePlugin.JpegImageFile image mode=...</td>\n",
       "      <td>1520</td>\n",
       "      <td>870</td>\n",
       "      <td>{'id': [0, 1, 2, 3], 'area': [7296, 672, 4864,...</td>\n",
       "    </tr>\n",
       "    <tr>\n",
       "      <th>1</th>\n",
       "      <td>image_1.jpg</td>\n",
       "      <td>1</td>\n",
       "      <td>&lt;PIL.JpegImagePlugin.JpegImageFile image mode=...</td>\n",
       "      <td>1520</td>\n",
       "      <td>870</td>\n",
       "      <td>{'id': [4, 5, 6, 7, 8, 9], 'area': [2304, 6912...</td>\n",
       "    </tr>\n",
       "    <tr>\n",
       "      <th>2</th>\n",
       "      <td>image_2.jpg</td>\n",
       "      <td>2</td>\n",
       "      <td>&lt;PIL.JpegImagePlugin.JpegImageFile image mode=...</td>\n",
       "      <td>1520</td>\n",
       "      <td>870</td>\n",
       "      <td>{'id': [10, 11, 12, 13, 14, 15], 'area': [2912...</td>\n",
       "    </tr>\n",
       "    <tr>\n",
       "      <th>3</th>\n",
       "      <td>image_3.jpg</td>\n",
       "      <td>3</td>\n",
       "      <td>&lt;PIL.JpegImagePlugin.JpegImageFile image mode=...</td>\n",
       "      <td>1520</td>\n",
       "      <td>870</td>\n",
       "      <td>{'id': [16, 17, 18, 19, 20, 21, 22], 'area': [...</td>\n",
       "    </tr>\n",
       "    <tr>\n",
       "      <th>4</th>\n",
       "      <td>image_4.jpg</td>\n",
       "      <td>4</td>\n",
       "      <td>&lt;PIL.JpegImagePlugin.JpegImageFile image mode=...</td>\n",
       "      <td>1520</td>\n",
       "      <td>870</td>\n",
       "      <td>{'id': [23, 24, 25], 'area': [3360, 1152, 3648...</td>\n",
       "    </tr>\n",
       "    <tr>\n",
       "      <th>...</th>\n",
       "      <td>...</td>\n",
       "      <td>...</td>\n",
       "      <td>...</td>\n",
       "      <td>...</td>\n",
       "      <td>...</td>\n",
       "      <td>...</td>\n",
       "    </tr>\n",
       "    <tr>\n",
       "      <th>195</th>\n",
       "      <td>image_195.jpg</td>\n",
       "      <td>195</td>\n",
       "      <td>&lt;PIL.JpegImagePlugin.JpegImageFile image mode=...</td>\n",
       "      <td>1520</td>\n",
       "      <td>870</td>\n",
       "      <td>{'id': [1038, 1039, 1040, 1041, 1042], 'area':...</td>\n",
       "    </tr>\n",
       "    <tr>\n",
       "      <th>196</th>\n",
       "      <td>image_196.jpg</td>\n",
       "      <td>196</td>\n",
       "      <td>&lt;PIL.JpegImagePlugin.JpegImageFile image mode=...</td>\n",
       "      <td>1520</td>\n",
       "      <td>870</td>\n",
       "      <td>{'id': [1043, 1044, 1045, 1046], 'area': [2048...</td>\n",
       "    </tr>\n",
       "    <tr>\n",
       "      <th>197</th>\n",
       "      <td>image_197.jpg</td>\n",
       "      <td>197</td>\n",
       "      <td>&lt;PIL.JpegImagePlugin.JpegImageFile image mode=...</td>\n",
       "      <td>1520</td>\n",
       "      <td>870</td>\n",
       "      <td>{'id': [1047, 1048, 1049, 1050, 1051], 'area':...</td>\n",
       "    </tr>\n",
       "    <tr>\n",
       "      <th>198</th>\n",
       "      <td>image_198.jpg</td>\n",
       "      <td>198</td>\n",
       "      <td>&lt;PIL.JpegImagePlugin.JpegImageFile image mode=...</td>\n",
       "      <td>1520</td>\n",
       "      <td>870</td>\n",
       "      <td>{'id': [1052, 1053, 1054, 1055, 1056, 1057, 10...</td>\n",
       "    </tr>\n",
       "    <tr>\n",
       "      <th>199</th>\n",
       "      <td>image_199.jpg</td>\n",
       "      <td>199</td>\n",
       "      <td>&lt;PIL.JpegImagePlugin.JpegImageFile image mode=...</td>\n",
       "      <td>1520</td>\n",
       "      <td>870</td>\n",
       "      <td>{'id': [1060, 1061, 1062, 1063, 1064, 1065], '...</td>\n",
       "    </tr>\n",
       "  </tbody>\n",
       "</table>\n",
       "<p>200 rows × 6 columns</p>\n",
       "</div>"
      ],
      "text/plain": [
       "         file_name  image_id  \\\n",
       "0      image_0.jpg         0   \n",
       "1      image_1.jpg         1   \n",
       "2      image_2.jpg         2   \n",
       "3      image_3.jpg         3   \n",
       "4      image_4.jpg         4   \n",
       "..             ...       ...   \n",
       "195  image_195.jpg       195   \n",
       "196  image_196.jpg       196   \n",
       "197  image_197.jpg       197   \n",
       "198  image_198.jpg       198   \n",
       "199  image_199.jpg       199   \n",
       "\n",
       "                                                 image  width  height  \\\n",
       "0    <PIL.JpegImagePlugin.JpegImageFile image mode=...   1520     870   \n",
       "1    <PIL.JpegImagePlugin.JpegImageFile image mode=...   1520     870   \n",
       "2    <PIL.JpegImagePlugin.JpegImageFile image mode=...   1520     870   \n",
       "3    <PIL.JpegImagePlugin.JpegImageFile image mode=...   1520     870   \n",
       "4    <PIL.JpegImagePlugin.JpegImageFile image mode=...   1520     870   \n",
       "..                                                 ...    ...     ...   \n",
       "195  <PIL.JpegImagePlugin.JpegImageFile image mode=...   1520     870   \n",
       "196  <PIL.JpegImagePlugin.JpegImageFile image mode=...   1520     870   \n",
       "197  <PIL.JpegImagePlugin.JpegImageFile image mode=...   1520     870   \n",
       "198  <PIL.JpegImagePlugin.JpegImageFile image mode=...   1520     870   \n",
       "199  <PIL.JpegImagePlugin.JpegImageFile image mode=...   1520     870   \n",
       "\n",
       "                                               objects  \n",
       "0    {'id': [0, 1, 2, 3], 'area': [7296, 672, 4864,...  \n",
       "1    {'id': [4, 5, 6, 7, 8, 9], 'area': [2304, 6912...  \n",
       "2    {'id': [10, 11, 12, 13, 14, 15], 'area': [2912...  \n",
       "3    {'id': [16, 17, 18, 19, 20, 21, 22], 'area': [...  \n",
       "4    {'id': [23, 24, 25], 'area': [3360, 1152, 3648...  \n",
       "..                                                 ...  \n",
       "195  {'id': [1038, 1039, 1040, 1041, 1042], 'area':...  \n",
       "196  {'id': [1043, 1044, 1045, 1046], 'area': [2048...  \n",
       "197  {'id': [1047, 1048, 1049, 1050, 1051], 'area':...  \n",
       "198  {'id': [1052, 1053, 1054, 1055, 1056, 1057, 10...  \n",
       "199  {'id': [1060, 1061, 1062, 1063, 1064, 1065], '...  \n",
       "\n",
       "[200 rows x 6 columns]"
      ]
     },
     "execution_count": 7,
     "metadata": {},
     "output_type": "execute_result"
    }
   ],
   "source": [
    "df2 = pd.read_json('../data/vlm.jsonl', lines=True).sample(n=100)\n",
    "\n",
    "categories = list(filter(lambda x: x != None, pd.DataFrame([i for i in list(df2['annotations'].apply(lambda x: [i['caption'] for i in x]))]).to_numpy().flatten()))\n",
    "num_cat = len(categories)\n",
    "categories = pd.DataFrame(categories)\n",
    "categories.drop_duplicates(inplace=True)\n",
    "categories = categories.values.flatten().tolist()\n",
    "id2label = {index: x for index, x in enumerate(categories, start=0)}\n",
    "label2id = {v: k for k, v in id2label.items()}\n",
    "\n",
    "# df2['id'] = list(map(lambda x: {'id':x}, df2.index)) #not correct\n",
    "df2[\"image_id\"] = df2.index\n",
    "df2['width'] = df2['image'].apply(lambda x: Image.open('../data/images/' + x).size)\n",
    "df2['height'] = df2['width'].apply(lambda x: x[1])\n",
    "df2['width'] = df2['width'].apply(lambda x: x[0])\n",
    "df2['img'] = df2['image'].apply(lambda x: Image.open('../data/images/' +x))\n",
    "# df2['height'] = df2['annotations'].apply(lambda x: [i['bbox'][3] for i in x])\n",
    "df2['area'] = df2['annotations'].apply(lambda x: {\"area\":[i['bbox'][2] * i['bbox'][3] for i in x]})\n",
    "df2['bbox'] = df2['annotations'].apply(lambda x: {\"bbox\":[i['bbox'] for i in x]})\n",
    "df2['category'] = df2['annotations'].apply(lambda x: {'category':[label2id[i['caption']] for i in x]})\n",
    "df2 = df2.drop(columns=['annotations'])\n",
    "\n",
    "counter = 0\n",
    "lst = []\n",
    "for i in df2['category']:\n",
    "\tsize = len(i['category'])\n",
    "\teach = list(np.arange(counter, counter + size))\n",
    "\tlst.append({'id':each})\n",
    "\tcounter += size\n",
    "df2['id'] = lst\n",
    "\n",
    "df_vlm = pd.DataFrame({\n",
    "\t\"file_name\" : df2['image'],\n",
    "\t\"image_id\" : df2['image_id'],\n",
    "\t\"image\" : df2['img'],\n",
    "\t\"width\" : df2['width'],\n",
    "\t\"height\": df2['height'],\n",
    "\t\"objects\": df2.apply(lambda x: {'id': x['id']['id'], 'area': x['area']['area'],'bbox': x['bbox']['bbox'], 'category': x['category']['category']}, axis=1)\n",
    "})\n",
    "# df_vlm.to_csv('meta_data.csv', index=False)\n",
    "df_vlm"
   ]
  },
  {
   "cell_type": "markdown",
   "id": "d1a100a1",
   "metadata": {},
   "source": [
    "# Split Dataset"
   ]
  },
  {
   "cell_type": "code",
   "execution_count": 8,
   "id": "6882e8bc",
   "metadata": {},
   "outputs": [
    {
     "data": {
      "text/plain": [
       "((140, 6), (20, 6), (40, 6))"
      ]
     },
     "execution_count": 8,
     "metadata": {},
     "output_type": "execute_result"
    }
   ],
   "source": [
    "train, test = train_test_split(df_vlm, test_size=0.2, random_state=1)\n",
    "\n",
    "train, val = train_test_split(train, test_size=0.125, random_state=1) # 0.125 x 0.8 = 0.1\n",
    "\n",
    "train_csv = train.drop(columns=['image'])\n",
    "train_csv.to_csv('../data/train/metadata.csv', index=False)\n",
    "pd.DataFrame({\n",
    "\t'name':train['file_name'],\n",
    "\t'img':train['image']\n",
    "}).apply(lambda x: x[1].save('../data/train/' + x[0]), axis=1)\n",
    "\n",
    "val_csv = val.drop(columns=['image'])\n",
    "val_csv.to_csv('../data/val/metadata.csv', index=False)\n",
    "pd.DataFrame({\n",
    "\t'name':val['file_name'],\n",
    "\t'img':val['image']\n",
    "}).apply(lambda x: x[1].save('../data/val/' + x[0]), axis=1)\n",
    "\n",
    "test_csv = test.drop(columns=['image'])\n",
    "test_csv.to_csv('../data/test/metadata.csv', index=False)\n",
    "pd.DataFrame({\n",
    "\t'name':test['file_name'],\n",
    "\t'img':test['image']\n",
    "}).apply(lambda x: x[1].save('../data/test/' + x[0]), axis=1)\n",
    "\n",
    "train.shape, val.shape, test.shape"
   ]
  },
  {
   "cell_type": "code",
   "execution_count": 9,
   "id": "e91a5bd0",
   "metadata": {},
   "outputs": [
    {
     "data": {
      "application/vnd.jupyter.widget-view+json": {
       "model_id": "ed12ba4c87e74ede92e34377c1b65d75",
       "version_major": 2,
       "version_minor": 0
      },
      "text/plain": [
       "Resolving data files:   0%|          | 0/141 [00:00<?, ?it/s]"
      ]
     },
     "metadata": {},
     "output_type": "display_data"
    },
    {
     "data": {
      "application/vnd.jupyter.widget-view+json": {
       "model_id": "daaa81fd91f34ea7a308bbe63c0f711a",
       "version_major": 2,
       "version_minor": 0
      },
      "text/plain": [
       "Resolving data files:   0%|          | 0/21 [00:00<?, ?it/s]"
      ]
     },
     "metadata": {},
     "output_type": "display_data"
    },
    {
     "data": {
      "application/vnd.jupyter.widget-view+json": {
       "model_id": "817269499f514f6d9b091cf24f0488b4",
       "version_major": 2,
       "version_minor": 0
      },
      "text/plain": [
       "Resolving data files:   0%|          | 0/41 [00:00<?, ?it/s]"
      ]
     },
     "metadata": {},
     "output_type": "display_data"
    },
    {
     "data": {
      "text/plain": [
       "DatasetDict({\n",
       "    train: Dataset({\n",
       "        features: ['image', 'image_id', 'width', 'height', 'objects'],\n",
       "        num_rows: 140\n",
       "    })\n",
       "    validation: Dataset({\n",
       "        features: ['image', 'image_id', 'width', 'height', 'objects'],\n",
       "        num_rows: 20\n",
       "    })\n",
       "    test: Dataset({\n",
       "        features: ['image', 'image_id', 'width', 'height', 'objects'],\n",
       "        num_rows: 40\n",
       "    })\n",
       "})"
      ]
     },
     "execution_count": 9,
     "metadata": {},
     "output_type": "execute_result"
    }
   ],
   "source": [
    "vlm_data = load_dataset('ekmi00/vlm-images')\n",
    "vlm_data"
   ]
  }
 ],
 "metadata": {
  "environment": {
   "kernel": "python310cv",
   "name": "workbench-notebooks.m119",
   "type": "gcloud",
   "uri": "us-docker.pkg.dev/deeplearning-platform-release/gcr.io/workbench-notebooks:m119"
  },
  "kernelspec": {
   "display_name": "Python 3",
   "language": "python",
   "name": "python3"
  },
  "language_info": {
   "codemirror_mode": {
    "name": "ipython",
    "version": 3
   },
   "file_extension": ".py",
   "mimetype": "text/x-python",
   "name": "python",
   "nbconvert_exporter": "python",
   "pygments_lexer": "ipython3",
   "version": "3.10.10"
  }
 },
 "nbformat": 4,
 "nbformat_minor": 5
}
