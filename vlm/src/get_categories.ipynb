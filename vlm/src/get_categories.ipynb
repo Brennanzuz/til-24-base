{
 "cells": [
  {
   "cell_type": "code",
   "execution_count": 11,
   "metadata": {},
   "outputs": [],
   "source": [
    "import pandas as pd\n",
    "import numpy as np\n",
    "from typing import Dict\n",
    "\n",
    "from PIL import Image\n",
    "from datasets import load_dataset, Dataset, Features, Value\n",
    "\n",
    "from sklearn.model_selection import train_test_split\n",
    "from functools import reduce\n",
    "import re"
   ]
  },
  {
   "cell_type": "code",
   "execution_count": 23,
   "metadata": {},
   "outputs": [
    {
     "data": {
      "text/plain": [
       "['grey',\n",
       " 'missile',\n",
       " 'red',\n",
       " 'white',\n",
       " 'and',\n",
       " 'blue',\n",
       " 'light',\n",
       " 'aircraft',\n",
       " 'green',\n",
       " 'black',\n",
       " 'helicopter',\n",
       " 'camouflage',\n",
       " 'fighter',\n",
       " 'jet',\n",
       " 'plane',\n",
       " 'drone',\n",
       " 'commercial',\n",
       " 'yellow',\n",
       " 'cargo',\n",
       " 'brown',\n",
       " 'orange',\n",
       " 'silver']"
      ]
     },
     "execution_count": 23,
     "metadata": {},
     "output_type": "execute_result"
    }
   ],
   "source": [
    "# df2 = pd.read_json('../data/vlm.jsonl', lines=True)\n",
    "df2 = pd.read_json('../data/vlm.jsonl', lines=True)\n",
    "df2\n",
    "str_lst = list(filter(lambda x: x != None, pd.DataFrame([i for i in list(df2['annotations'].apply(lambda x: [i['caption'] for i in x]))]).to_numpy().flatten()))\n",
    "tok_lst = re.sub(',', ' ', reduce(lambda x, y: x + ' ' +  y, str_lst)).split()\n",
    "cat = list(dict.fromkeys(tok_lst))\n",
    "cat"
   ]
  },
  {
   "cell_type": "code",
   "execution_count": 22,
   "metadata": {},
   "outputs": [],
   "source": [
    "col_lst = ['grey',\n",
    "'red',\n",
    "'white',\n",
    "'blue',\n",
    "'light',\n",
    "'green',\n",
    "'black',\n",
    "'yellow',\n",
    "'brown',\n",
    "'orange',\n",
    "'silver']\n",
    "\n",
    "buffer = ['and']\n",
    "\n",
    "obj_lst = ['missile', \n",
    "'cargo',\n",
    "'aircraft',\n",
    "'helicopter'\n",
    "'camouflage',\n",
    "'fighter',\n",
    "'jet',\n",
    "'plane',\n",
    "'drone',\n",
    "'commercial']"
   ]
  }
 ],
 "metadata": {
  "kernelspec": {
   "display_name": "Python 3",
   "language": "python",
   "name": "python3"
  },
  "language_info": {
   "codemirror_mode": {
    "name": "ipython",
    "version": 3
   },
   "file_extension": ".py",
   "mimetype": "text/x-python",
   "name": "python",
   "nbconvert_exporter": "python",
   "pygments_lexer": "ipython3",
   "version": "3.10.11"
  }
 },
 "nbformat": 4,
 "nbformat_minor": 2
}
